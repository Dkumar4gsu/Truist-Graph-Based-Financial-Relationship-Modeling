{
 "cells": [
  {
   "cell_type": "code",
   "execution_count": 2,
   "id": "92fbf923-ddb4-4389-a5b8-1b12eaf8daf9",
   "metadata": {
    "tags": []
   },
   "outputs": [],
   "source": [
    "from py2neo import Node, Graph, Relationship\n",
    "\n",
    "graph = Graph(\"bolt://neo4j:7687\", name=\"neo4j\", password=\"password\")"
   ]
  },
  {
   "cell_type": "code",
   "execution_count": 113,
   "id": "0f5bd683-5b24-493c-8f1c-44d654c10e73",
   "metadata": {
    "tags": []
   },
   "outputs": [],
   "source": [
    "query1 = '''\n",
    "LOAD CSV WITH HEADERS FROM \n",
    "'file:///product_risk_2.csv' AS row\n",
    "WITH row limit 200\n",
    "WITH row,\n",
    "(CASE \n",
    "    WHEN ToInteger(row.Missed_Payments) <5 THEN '0-5'\n",
    "    WHEN ToInteger(row.Missed_Payments) <10 THEN '5-10'\n",
    "    ELSE 'Above 10'\n",
    "END) AS missed_pay_bin,\n",
    "\n",
    "(CASE\n",
    "    WHEN ToInteger(row.Primary_Credit_Score) < 500 THEN 'Below 500'\n",
    "    WHEN ToInteger(row.Primary_Credit_Score) < 600 THEN '500-600'\n",
    "    WHEN ToInteger(row.Primary_Credit_Score) < 700 THEN '600-700'\n",
    "    ELSE 'Above 700'\n",
    "END) AS credit_score_bin,\n",
    "\n",
    "(CASE\n",
    "    WHEN ToFloat(row.DTI) < 0.15 THEN 'Below 0.15'\n",
    "    WHEN ToFloat(row.DTI) < 0.35 THEN '0.15-0.35'\n",
    "    WHEN ToFloat(row.DTI) < 0.7 THEN '0.35-0.7'\n",
    "    ELSE 'Above 0.7'\n",
    "END) AS dti_bin\n",
    "CREATE (c:customer {customer_id: (row.Customer_ID), age: ToFloat(row.Age), product_name: (row.Product_Name)})\n",
    "\n",
    "MERGE (pd:probdefault {def : row.Probability_of_Default})\n",
    "MERGE (c)-[:has_default]->(pd)\n",
    "\n",
    "MERGE (pc:prod_code {product_name: row.Product_Name})\n",
    "MERGE (c)-[:has_product]->(pc)\n",
    "\n",
    "MERGE (mtb:missedpayment {missed_pay_bin : missed_pay_bin})\n",
    "MERGE (c)-[:has_missed_payments {missed_payments: ToInteger(row.Missed_Payments)}]->(mtb)\n",
    "\n",
    "MERGE (csb:creditscore {credit_score_bin : credit_score_bin})\n",
    "MERGE (c)-[:has_credit_score {credit_score: ToInteger(row.Primary_Credit_Score)}]->(csb)\n",
    "\n",
    "MERGE (dti:debttoincome {dti_bin : dti_bin})\n",
    "MERGE (c)-[:has_debt_to_income_ratio {debt_to_income_ratio: ToFloat(row.DTI)}]->(dti)\n",
    "'''"
   ]
  },
  {
   "cell_type": "code",
   "execution_count": 114,
   "id": "184c6df7-ab4c-435d-805a-ac34915afa5e",
   "metadata": {
    "tags": []
   },
   "outputs": [
    {
     "data": {
      "text/plain": [
       "{'labels_added': 220,\n",
       " 'relationships_created': 1000,\n",
       " 'nodes_created': 220,\n",
       " 'properties_set': 1220}"
      ]
     },
     "execution_count": 114,
     "metadata": {},
     "output_type": "execute_result"
    }
   ],
   "source": [
    "graph.run(query1).stats()"
   ]
  },
  {
   "cell_type": "code",
   "execution_count": 115,
   "id": "3cc82fc1-3da4-45f6-9d7c-763b75f8b228",
   "metadata": {
    "tags": []
   },
   "outputs": [
    {
     "data": {
      "text/html": [
       "<table><tr><th>default</th><th>product</th><th>customer_count</th></tr><tr><td style=\"text-align:left\">0</td><td style=\"text-align:left\">Personal Loan</td><td style=\"text-align:right\">25</td></tr><tr><td style=\"text-align:left\">0</td><td style=\"text-align:left\">Real Estate</td><td style=\"text-align:right\">38</td></tr><tr><td style=\"text-align:left\">0</td><td style=\"text-align:left\">Home Improvement</td><td style=\"text-align:right\">37</td></tr><tr><td style=\"text-align:left\">0</td><td style=\"text-align:left\">Mortgage</td><td style=\"text-align:right\">9</td></tr><tr><td style=\"text-align:left\">0</td><td style=\"text-align:left\">Car Loan</td><td style=\"text-align:right\">19</td></tr><tr><td style=\"text-align:left\">0</td><td style=\"text-align:left\">Line of credit</td><td style=\"text-align:right\">9</td></tr><tr><td style=\"text-align:left\">0</td><td style=\"text-align:left\">Line of Credit</td><td style=\"text-align:right\">18</td></tr><tr><td style=\"text-align:left\">0</td><td style=\"text-align:left\">Equipment Finance</td><td style=\"text-align:right\">32</td></tr><tr><td style=\"text-align:left\">1</td><td style=\"text-align:left\">Personal Loan</td><td style=\"text-align:right\">3</td></tr><tr><td style=\"text-align:left\">1</td><td style=\"text-align:left\">Equipment Finance</td><td style=\"text-align:right\">3</td></tr><tr><td style=\"text-align:left\">1</td><td style=\"text-align:left\">Home Improvement</td><td style=\"text-align:right\">2</td></tr><tr><td style=\"text-align:left\">1</td><td style=\"text-align:left\">Real Estate</td><td style=\"text-align:right\">5</td></tr></table>"
      ],
      "text/plain": [
       " default | product           | customer_count \n",
       "---------|-------------------|----------------\n",
       " 0       | Personal Loan     |             25 \n",
       " 0       | Real Estate       |             38 \n",
       " 0       | Home Improvement  |             37 \n",
       " 0       | Mortgage          |              9 \n",
       " 0       | Car Loan          |             19 \n",
       " 0       | Line of credit    |              9 \n",
       " 0       | Line of Credit    |             18 \n",
       " 0       | Equipment Finance |             32 \n",
       " 1       | Personal Loan     |              3 \n",
       " 1       | Equipment Finance |              3 \n",
       " 1       | Home Improvement  |              2 \n",
       " 1       | Real Estate       |              5 "
      ]
     },
     "execution_count": 115,
     "metadata": {},
     "output_type": "execute_result"
    }
   ],
   "source": [
    "query2 = '''\n",
    "        MATCH (pd:probdefault)<-[:has_default]-(c:customer)-[:has_product]->(pc)\n",
    "        WITH pd.def as default, pc.product_name as product, count(DISTINCT c) as customer_count\n",
    "        RETURN default, product, customer_count\n",
    "'''\n",
    "\n",
    "graph.run(query2).to_table()"
   ]
  },
  {
   "cell_type": "code",
   "execution_count": 116,
   "id": "f4558fd5-3d0c-4927-90b4-649a397ecddb",
   "metadata": {
    "tags": []
   },
   "outputs": [],
   "source": [
    "query3 = '''\n",
    "        MATCH (pd:probdefault)<-[:has_default]-(c:customer)-[r:has_missed_payments]->(mtb:missedpayment)\n",
    "        WITH pd.def as default, mtb.missed_pay_bin as missedbin, c.product_name as product, count(DISTINCT c) as customer_count\n",
    "        RETURN default, missedbin, product, customer_count\n",
    "'''"
   ]
  },
  {
   "cell_type": "code",
   "execution_count": 117,
   "id": "abfa2cda-b853-431c-972c-e2f643d9fde0",
   "metadata": {
    "tags": []
   },
   "outputs": [
    {
     "data": {
      "text/html": [
       "<table><tr><th>default</th><th>missedbin</th><th>product</th><th>customer_count</th></tr><tr><td style=\"text-align:left\">0</td><td style=\"text-align:left\">Above 10</td><td style=\"text-align:left\">Car Loan</td><td style=\"text-align:right\">7</td></tr><tr><td style=\"text-align:left\">0</td><td style=\"text-align:left\">Above 10</td><td style=\"text-align:left\">Real Estate</td><td style=\"text-align:right\">10</td></tr><tr><td style=\"text-align:left\">0</td><td style=\"text-align:left\">Above 10</td><td style=\"text-align:left\">Personal Loan</td><td style=\"text-align:right\">5</td></tr><tr><td style=\"text-align:left\">1</td><td style=\"text-align:left\">Above 10</td><td style=\"text-align:left\">Personal Loan</td><td style=\"text-align:right\">3</td></tr><tr><td style=\"text-align:left\">0</td><td style=\"text-align:left\">Above 10</td><td style=\"text-align:left\">Home Improvement</td><td style=\"text-align:right\">16</td></tr><tr><td style=\"text-align:left\">0</td><td style=\"text-align:left\">Above 10</td><td style=\"text-align:left\">Equipment Finance</td><td style=\"text-align:right\">7</td></tr><tr><td style=\"text-align:left\">1</td><td style=\"text-align:left\">Above 10</td><td style=\"text-align:left\">Real Estate</td><td style=\"text-align:right\">5</td></tr><tr><td style=\"text-align:left\">1</td><td style=\"text-align:left\">Above 10</td><td style=\"text-align:left\">Home Improvement</td><td style=\"text-align:right\">2</td></tr><tr><td style=\"text-align:left\">0</td><td style=\"text-align:left\">Above 10</td><td style=\"text-align:left\">Line of Credit</td><td style=\"text-align:right\">6</td></tr><tr><td style=\"text-align:left\">1</td><td style=\"text-align:left\">Above 10</td><td style=\"text-align:left\">Equipment Finance</td><td style=\"text-align:right\">2</td></tr><tr><td style=\"text-align:left\">0</td><td style=\"text-align:left\">Above 10</td><td style=\"text-align:left\">Line of credit</td><td style=\"text-align:right\">5</td></tr><tr><td style=\"text-align:left\">0</td><td style=\"text-align:left\">Above 10</td><td style=\"text-align:left\">Mortgage</td><td style=\"text-align:right\">2</td></tr><tr><td style=\"text-align:left\">0</td><td style=\"text-align:left\">5-10</td><td style=\"text-align:left\">Real Estate</td><td style=\"text-align:right\">11</td></tr><tr><td style=\"text-align:left\">0</td><td style=\"text-align:left\">5-10</td><td style=\"text-align:left\">Line of Credit</td><td style=\"text-align:right\">9</td></tr><tr><td style=\"text-align:left\">0</td><td style=\"text-align:left\">5-10</td><td style=\"text-align:left\">Mortgage</td><td style=\"text-align:right\">3</td></tr><tr><td style=\"text-align:left\">0</td><td style=\"text-align:left\">5-10</td><td style=\"text-align:left\">Equipment Finance</td><td style=\"text-align:right\">15</td></tr><tr><td style=\"text-align:left\">0</td><td style=\"text-align:left\">5-10</td><td style=\"text-align:left\">Home Improvement</td><td style=\"text-align:right\">11</td></tr><tr><td style=\"text-align:left\">0</td><td style=\"text-align:left\">5-10</td><td style=\"text-align:left\">Line of credit</td><td style=\"text-align:right\">2</td></tr><tr><td style=\"text-align:left\">0</td><td style=\"text-align:left\">5-10</td><td style=\"text-align:left\">Personal Loan</td><td style=\"text-align:right\">11</td></tr><tr><td style=\"text-align:left\">0</td><td style=\"text-align:left\">5-10</td><td style=\"text-align:left\">Car Loan</td><td style=\"text-align:right\">7</td></tr><tr><td style=\"text-align:left\">1</td><td style=\"text-align:left\">5-10</td><td style=\"text-align:left\">Equipment Finance</td><td style=\"text-align:right\">1</td></tr><tr><td style=\"text-align:left\">0</td><td style=\"text-align:left\">0-5</td><td style=\"text-align:left\">Home Improvement</td><td style=\"text-align:right\">10</td></tr><tr><td style=\"text-align:left\">0</td><td style=\"text-align:left\">0-5</td><td style=\"text-align:left\">Real Estate</td><td style=\"text-align:right\">17</td></tr><tr><td style=\"text-align:left\">0</td><td style=\"text-align:left\">0-5</td><td style=\"text-align:left\">Car Loan</td><td style=\"text-align:right\">5</td></tr><tr><td style=\"text-align:left\">0</td><td style=\"text-align:left\">0-5</td><td style=\"text-align:left\">Personal Loan</td><td style=\"text-align:right\">9</td></tr><tr><td style=\"text-align:left\">0</td><td style=\"text-align:left\">0-5</td><td style=\"text-align:left\">Mortgage</td><td style=\"text-align:right\">4</td></tr><tr><td style=\"text-align:left\">0</td><td style=\"text-align:left\">0-5</td><td style=\"text-align:left\">Equipment Finance</td><td style=\"text-align:right\">10</td></tr><tr><td style=\"text-align:left\">0</td><td style=\"text-align:left\">0-5</td><td style=\"text-align:left\">Line of credit</td><td style=\"text-align:right\">2</td></tr><tr><td style=\"text-align:left\">0</td><td style=\"text-align:left\">0-5</td><td style=\"text-align:left\">Line of Credit</td><td style=\"text-align:right\">3</td></tr></table>"
      ],
      "text/plain": [
       " default | missedbin | product           | customer_count \n",
       "---------|-----------|-------------------|----------------\n",
       " 0       | Above 10  | Car Loan          |              7 \n",
       " 0       | Above 10  | Real Estate       |             10 \n",
       " 0       | Above 10  | Personal Loan     |              5 \n",
       " 1       | Above 10  | Personal Loan     |              3 \n",
       " 0       | Above 10  | Home Improvement  |             16 \n",
       " 0       | Above 10  | Equipment Finance |              7 \n",
       " 1       | Above 10  | Real Estate       |              5 \n",
       " 1       | Above 10  | Home Improvement  |              2 \n",
       " 0       | Above 10  | Line of Credit    |              6 \n",
       " 1       | Above 10  | Equipment Finance |              2 \n",
       " 0       | Above 10  | Line of credit    |              5 \n",
       " 0       | Above 10  | Mortgage          |              2 \n",
       " 0       | 5-10      | Real Estate       |             11 \n",
       " 0       | 5-10      | Line of Credit    |              9 \n",
       " 0       | 5-10      | Mortgage          |              3 \n",
       " 0       | 5-10      | Equipment Finance |             15 \n",
       " 0       | 5-10      | Home Improvement  |             11 \n",
       " 0       | 5-10      | Line of credit    |              2 \n",
       " 0       | 5-10      | Personal Loan     |             11 \n",
       " 0       | 5-10      | Car Loan          |              7 \n",
       " 1       | 5-10      | Equipment Finance |              1 \n",
       " 0       | 0-5       | Home Improvement  |             10 \n",
       " 0       | 0-5       | Real Estate       |             17 \n",
       " 0       | 0-5       | Car Loan          |              5 \n",
       " 0       | 0-5       | Personal Loan     |              9 \n",
       " 0       | 0-5       | Mortgage          |              4 \n",
       " 0       | 0-5       | Equipment Finance |             10 \n",
       " 0       | 0-5       | Line of credit    |              2 \n",
       " 0       | 0-5       | Line of Credit    |              3 "
      ]
     },
     "execution_count": 117,
     "metadata": {},
     "output_type": "execute_result"
    }
   ],
   "source": [
    "graph.run(query3).to_table()"
   ]
  },
  {
   "cell_type": "code",
   "execution_count": 122,
   "id": "7eb3eb00-da17-44e1-8d68-ae32ca74a58b",
   "metadata": {
    "tags": []
   },
   "outputs": [
    {
     "data": {
      "text/html": [
       "<table><tr><th>c.customer_id</th><th>product</th><th>missed_payment</th><th>credit_score</th><th>dti</th><th>age</th></tr><tr><td style=\"text-align:left\">290758003894</td><td style=\"text-align:left\">Personal Loan</td><td style=\"text-align:right\">15</td><td style=\"text-align:right\">592</td><td style=\"text-align:right\">0.271</td><td style=\"text-align:right\">22.0</td></tr><tr><td style=\"text-align:left\">115232746270</td><td style=\"text-align:left\">Equipment Finance</td><td style=\"text-align:right\">9</td><td style=\"text-align:right\">517</td><td style=\"text-align:right\">0.39</td><td style=\"text-align:right\">66.0</td></tr><tr><td style=\"text-align:left\">806112590554</td><td style=\"text-align:left\">Personal Loan</td><td style=\"text-align:right\">10</td><td style=\"text-align:right\">475</td><td style=\"text-align:right\">0.349</td><td style=\"text-align:right\">20.0</td></tr><tr><td style=\"text-align:left\">159987371856</td><td style=\"text-align:left\">Home Improvement</td><td style=\"text-align:right\">13</td><td style=\"text-align:right\">850</td><td style=\"text-align:right\">0.37</td><td style=\"text-align:right\">51.0</td></tr><tr><td style=\"text-align:left\">283205437470</td><td style=\"text-align:left\">Personal Loan</td><td style=\"text-align:right\">12</td><td style=\"text-align:right\">580</td><td style=\"text-align:right\">0.34</td><td style=\"text-align:right\">28.0</td></tr><tr><td style=\"text-align:left\">623908435414</td><td style=\"text-align:left\">Real Estate</td><td style=\"text-align:right\">15</td><td style=\"text-align:right\">766</td><td style=\"text-align:right\">0.308</td><td style=\"text-align:right\">66.0</td></tr><tr><td style=\"text-align:left\">133483955087</td><td style=\"text-align:left\">Real Estate</td><td style=\"text-align:right\">14</td><td style=\"text-align:right\">697</td><td style=\"text-align:right\">0.272</td><td style=\"text-align:right\">55.0</td></tr><tr><td style=\"text-align:left\">496805003931</td><td style=\"text-align:left\">Equipment Finance</td><td style=\"text-align:right\">15</td><td style=\"text-align:right\">881</td><td style=\"text-align:right\">0.266</td><td style=\"text-align:right\">54.0</td></tr><tr><td style=\"text-align:left\">543160051584</td><td style=\"text-align:left\">Real Estate</td><td style=\"text-align:right\">14</td><td style=\"text-align:right\">721</td><td style=\"text-align:right\">0.412</td><td style=\"text-align:right\">35.0</td></tr><tr><td style=\"text-align:left\">866459345886</td><td style=\"text-align:left\">Real Estate</td><td style=\"text-align:right\">15</td><td style=\"text-align:right\">510</td><td style=\"text-align:right\">0.283</td><td style=\"text-align:right\">46.0</td></tr></table>"
      ],
      "text/plain": [
       " c.customer_id | product           | missed_payment | credit_score |   dti |  age \n",
       "---------------|-------------------|----------------|--------------|-------|------\n",
       " 290758003894  | Personal Loan     |             15 |          592 | 0.271 | 22.0 \n",
       " 115232746270  | Equipment Finance |              9 |          517 |  0.39 | 66.0 \n",
       " 806112590554  | Personal Loan     |             10 |          475 | 0.349 | 20.0 \n",
       " 159987371856  | Home Improvement  |             13 |          850 |  0.37 | 51.0 \n",
       " 283205437470  | Personal Loan     |             12 |          580 |  0.34 | 28.0 \n",
       " 623908435414  | Real Estate       |             15 |          766 | 0.308 | 66.0 \n",
       " 133483955087  | Real Estate       |             14 |          697 | 0.272 | 55.0 \n",
       " 496805003931  | Equipment Finance |             15 |          881 | 0.266 | 54.0 \n",
       " 543160051584  | Real Estate       |             14 |          721 | 0.412 | 35.0 \n",
       " 866459345886  | Real Estate       |             15 |          510 | 0.283 | 46.0 "
      ]
     },
     "execution_count": 122,
     "metadata": {},
     "output_type": "execute_result"
    }
   ],
   "source": [
    "query4 = '''\n",
    "        MATCH (pd:probdefault {def : '1'})<-[:has_default]-(c:customer)-[r1:has_missed_payments]->(mtb:missedpayment)\n",
    "        MATCH (c:customer)-[r2:has_credit_score]->(csb:creditscore)\n",
    "        MATCH (c:customer)-[r3:has_debt_to_income_ratio]->(dti:debttoincome)\n",
    "        RETURN c.customer_id, c.product_name as product, r1.missed_payments as missed_payment,\n",
    "        r2.credit_score as credit_score, round(r3.debt_to_income_ratio,3) as dti, c.age as age limit 10\n",
    "'''\n",
    "graph.run(query4).to_table()"
   ]
  },
  {
   "cell_type": "code",
   "execution_count": null,
   "id": "a12deeac-452a-4d49-975c-a252ee176481",
   "metadata": {},
   "outputs": [],
   "source": []
  },
  {
   "cell_type": "code",
   "execution_count": 112,
   "id": "fa3f5c9e-b89e-4c64-aca7-40c19bf9a005",
   "metadata": {
    "tags": []
   },
   "outputs": [
    {
     "data": {
      "text/plain": [
       "{'nodes_deleted': 220, 'relationships_deleted': 1000}"
      ]
     },
     "execution_count": 112,
     "metadata": {},
     "output_type": "execute_result"
    }
   ],
   "source": [
    "graph.run(\"MATCH (n) DETACH DELETE n\").stats()"
   ]
  },
  {
   "cell_type": "code",
   "execution_count": null,
   "id": "bb92a993-102d-42fd-a153-9bb7fb258851",
   "metadata": {},
   "outputs": [],
   "source": []
  }
 ],
 "metadata": {
  "kernelspec": {
   "display_name": "Python 3 (ipykernel)",
   "language": "python",
   "name": "python3"
  },
  "language_info": {
   "codemirror_mode": {
    "name": "ipython",
    "version": 3
   },
   "file_extension": ".py",
   "mimetype": "text/x-python",
   "name": "python",
   "nbconvert_exporter": "python",
   "pygments_lexer": "ipython3",
   "version": "3.10.9"
  }
 },
 "nbformat": 4,
 "nbformat_minor": 5
}
