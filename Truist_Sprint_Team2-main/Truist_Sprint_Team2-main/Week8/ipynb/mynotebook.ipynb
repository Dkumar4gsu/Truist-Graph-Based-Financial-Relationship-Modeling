{
 "cells": [
  {
   "cell_type": "code",
   "execution_count": 1,
   "id": "56e3e159-e4b7-4865-ac85-67afe18f8863",
   "metadata": {
    "tags": []
   },
   "outputs": [
    {
     "name": "stdout",
     "output_type": "stream",
     "text": [
      "Hello\n"
     ]
    }
   ],
   "source": [
    "print('Hello')"
   ]
  },
  {
   "cell_type": "code",
   "execution_count": 2,
   "id": "1460a5a0",
   "metadata": {
    "tags": []
   },
   "outputs": [],
   "source": [
    "from py2neo import Node, Graph, Relationship"
   ]
  },
  {
   "cell_type": "code",
   "execution_count": 3,
   "id": "74b9c828",
   "metadata": {
    "tags": []
   },
   "outputs": [
    {
     "name": "stdout",
     "output_type": "stream",
     "text": [
      "Number of nodes in graph:  0\n"
     ]
    }
   ],
   "source": [
    "graph = Graph(\"bolt://neo4j:7687\", name=\"neo4j\", password=\"password\")\n",
    "print('Number of nodes in graph: ', graph.nodes.match('Node').count())"
   ]
  },
  {
   "cell_type": "code",
   "execution_count": 4,
   "id": "c0ab18b4-6eb5-4451-acfd-99a2f261ba56",
   "metadata": {
    "tags": []
   },
   "outputs": [
    {
     "data": {
      "text/plain": [
       "{}"
      ]
     },
     "execution_count": 4,
     "metadata": {},
     "output_type": "execute_result"
    }
   ],
   "source": [
    "graph.run(\"MATCH (n) DETACH DELETE n\").stats()"
   ]
  },
  {
   "cell_type": "code",
   "execution_count": 5,
   "id": "db3cc6c5-255f-4a44-8726-cb2d73c03360",
   "metadata": {
    "tags": []
   },
   "outputs": [],
   "source": [
    "qnew = '''\n",
    "        LOAD CSV WITH HEADERS FROM \n",
    "'file:///product_synthetic_data.csv' AS row\n",
    "WITH row LIMIT 15\n",
    "CREATE (c:customer {customer_id: (row.customer_ID), age: ToFloat(row.age), product_name: (row.Product_Code), job: (row.job), marital: row.marital})\n",
    "'''"
   ]
  },
  {
   "cell_type": "code",
   "execution_count": 6,
   "id": "13af75b9-4f35-48cd-aee0-f9aad0b7494d",
   "metadata": {
    "tags": []
   },
   "outputs": [
    {
     "data": {
      "text/plain": [
       "{'labels_added': 15, 'nodes_created': 15, 'properties_set': 75}"
      ]
     },
     "execution_count": 6,
     "metadata": {},
     "output_type": "execute_result"
    }
   ],
   "source": [
    "graph.run(qnew).stats()"
   ]
  },
  {
   "cell_type": "code",
   "execution_count": 7,
   "id": "b9e39aa7-6da1-4252-ae52-9967034b3d36",
   "metadata": {
    "tags": []
   },
   "outputs": [
    {
     "data": {
      "text/plain": [
       "{'nodes_deleted': 15}"
      ]
     },
     "execution_count": 7,
     "metadata": {},
     "output_type": "execute_result"
    }
   ],
   "source": [
    "graph.run(\"MATCH (n) DETACH DELETE n\").stats()"
   ]
  },
  {
   "cell_type": "code",
   "execution_count": 9,
   "id": "0e8b7b71-e4ae-4f85-82fd-e650bae00f4f",
   "metadata": {
    "tags": []
   },
   "outputs": [],
   "source": [
    "qnew2 = '''\n",
    "LOAD CSV WITH HEADERS FROM \n",
    "'file:///product_synthetic_data.csv' AS row\n",
    "WITH row LIMIT 200\n",
    "CREATE (c:customer {customer_id: ToInteger(row.customer_ID), age: ToFloat(row.age)})\n",
    "MERGE (e:education {edu : row.education})\n",
    "MERGE (c)-[:studied]->(e)\n",
    "MERGE (j:job {job : row.job})\n",
    "MERGE (c)-[:works_as]->(j)\n",
    "MERGE (p:product {product : row.Product_Code})\n",
    "MERGE (c)-[:has_product]->(p)\n",
    "'''"
   ]
  },
  {
   "cell_type": "code",
   "execution_count": 10,
   "id": "b8edf215-1f29-494a-93b1-55772b3118aa",
   "metadata": {
    "tags": []
   },
   "outputs": [
    {
     "data": {
      "text/plain": [
       "{'labels_added': 224,\n",
       " 'relationships_created': 600,\n",
       " 'nodes_created': 224,\n",
       " 'properties_set': 424}"
      ]
     },
     "execution_count": 10,
     "metadata": {},
     "output_type": "execute_result"
    }
   ],
   "source": [
    "graph.run(qnew2).stats()"
   ]
  },
  {
   "cell_type": "code",
   "execution_count": 11,
   "id": "0aee2ba9-a68b-4b83-91d8-68e2702b4b30",
   "metadata": {
    "tags": []
   },
   "outputs": [
    {
     "data": {
      "text/plain": [
       "[{'n': Node('customer', age=36.0, customer_id=5830155)},\n",
       " {'n': Node('education', edu='university.degree')},\n",
       " {'n': Node('job', job='admin.')},\n",
       " {'n': Node('product', product='Home Loan')},\n",
       " {'n': Node('customer', age=40.0, customer_id=2671794)},\n",
       " {'n': Node('education', edu='basic.9y')},\n",
       " {'n': Node('job', job='blue-collar')},\n",
       " {'n': Node('product', product='Personal Loan')},\n",
       " {'n': Node('customer', age=48.0, customer_id=7542970)},\n",
       " {'n': Node('education', edu='professional.course')}]"
      ]
     },
     "execution_count": 11,
     "metadata": {},
     "output_type": "execute_result"
    }
   ],
   "source": [
    "graph.run(\"MATCH (n) return n\").data()[:10]"
   ]
  },
  {
   "cell_type": "code",
   "execution_count": 12,
   "id": "4deac91f-2358-4994-908f-ea6b83a4e588",
   "metadata": {
    "tags": []
   },
   "outputs": [
    {
     "data": {
      "text/plain": [
       "{'nodes_deleted': 224, 'relationships_deleted': 600}"
      ]
     },
     "execution_count": 12,
     "metadata": {},
     "output_type": "execute_result"
    }
   ],
   "source": [
    "graph.run(\"MATCH (n) DETACH DELETE n\").stats()"
   ]
  },
  {
   "cell_type": "code",
   "execution_count": null,
   "id": "06a59d80-ab04-479d-a8bd-f3bede11f81a",
   "metadata": {},
   "outputs": [],
   "source": []
  }
 ],
 "metadata": {
  "kernelspec": {
   "display_name": "Python 3 (ipykernel)",
   "language": "python",
   "name": "python3"
  },
  "language_info": {
   "codemirror_mode": {
    "name": "ipython",
    "version": 3
   },
   "file_extension": ".py",
   "mimetype": "text/x-python",
   "name": "python",
   "nbconvert_exporter": "python",
   "pygments_lexer": "ipython3",
   "version": "3.10.9"
  },
  "vscode": {
   "interpreter": {
    "hash": "f14c79724f1ca44cee74076c7ac411651646bb7bad4ab2435a2a33e719afb75e"
   }
  }
 },
 "nbformat": 4,
 "nbformat_minor": 5
}
