{
 "cells": [
  {
   "cell_type": "code",
   "execution_count": 1,
   "id": "92fbf923-ddb4-4389-a5b8-1b12eaf8daf9",
   "metadata": {
    "tags": []
   },
   "outputs": [],
   "source": [
    "from py2neo import Node, Graph, Relationship\n",
    "\n",
    "graph = Graph(\"bolt://neo4j:7687\", name=\"neo4j\", password=\"password\")"
   ]
  },
  {
   "cell_type": "code",
   "execution_count": 2,
   "id": "249aa89a-106a-4338-a26b-e1a31af1bb6d",
   "metadata": {
    "tags": []
   },
   "outputs": [
    {
     "data": {
      "text/plain": [
       "{'nodes_deleted': 226, 'relationships_deleted': 1200}"
      ]
     },
     "execution_count": 2,
     "metadata": {},
     "output_type": "execute_result"
    }
   ],
   "source": [
    "graph.run(\"MATCH (n) DETACH DELETE n\").stats()"
   ]
  },
  {
   "cell_type": "code",
   "execution_count": 3,
   "id": "0f5bd683-5b24-493c-8f1c-44d654c10e73",
   "metadata": {
    "tags": []
   },
   "outputs": [],
   "source": [
    "query1 = '''\n",
    "LOAD CSV WITH HEADERS FROM \n",
    "'file:///credit_scores3.csv' AS row\n",
    "WITH row limit 200\n",
    "WITH row,\n",
    "(CASE \n",
    "    WHEN ToFloat(row.DTI) <0.2 THEN 'Very Good'\n",
    "    WHEN ToFloat(row.DTI) <0.35 THEN 'Good'\n",
    "    WHEN ToFloat(row.DTI) <0.4 THEN 'Fair'\n",
    "    ELSE 'Poor'\n",
    "END) AS dti_bin,\n",
    "(CASE\n",
    "    WHEN ToInteger(row.Credit_Score) < 580 THEN 'Poor'\n",
    "    WHEN ToInteger(row.Credit_Score) < 670 THEN 'Fair'\n",
    "    WHEN ToInteger(row.Credit_Score) < 740 THEN 'Good'\n",
    "    WHEN ToInteger(row.Credit_Score) < 780 THEN 'Very Good'\n",
    "    ELSE 'Excellent'\n",
    "END) AS credit_score_bin\n",
    "\n",
    "CREATE (c:customer {customer_id: (row.Customer_ID), age: ToFloat(row.LOB_Code), product_name: (row.Product_Name)})\n",
    "\n",
    "MERGE (pd:probdefault {def : row.POD})\n",
    "MERGE (c)-[:has_default]->(pd)\n",
    "\n",
    "MERGE (pc:prod_code {product_name: row.Product_Name})\n",
    "MERGE (c)-[:has_product]->(pc)\n",
    "\n",
    "MERGE (mtb:missedpayment {missed_pay_bin : row.PH_Status})\n",
    "MERGE (c)-[:has_missed_payments {missed_payments: ToInteger(row.Missed_payments)}]->(mtb)\n",
    "\n",
    "MERGE (dd:delinq {delinq : row.Deliquent_days})\n",
    "MERGE (c)-[:has_delinq_days]->(dd)\n",
    "\n",
    "MERGE (csb:creditscore {credit_score_bin : credit_score_bin})\n",
    "MERGE (c)-[:has_credit_score {credit_score: ToInteger(row.Credit_Score)}]->(csb)\n",
    "\n",
    "MERGE (dti:debttoincome {dti_bin : dti_bin})\n",
    "MERGE (c)-[:has_debt_to_income_ratio {debt_to_income_ratio: ToFloat(row.DTI)}]->(dti)\n",
    "'''"
   ]
  },
  {
   "cell_type": "code",
   "execution_count": 4,
   "id": "184c6df7-ab4c-435d-805a-ac34915afa5e",
   "metadata": {
    "tags": []
   },
   "outputs": [
    {
     "data": {
      "text/plain": [
       "{'labels_added': 226,\n",
       " 'relationships_created': 1200,\n",
       " 'nodes_created': 226,\n",
       " 'properties_set': 1026}"
      ]
     },
     "execution_count": 4,
     "metadata": {},
     "output_type": "execute_result"
    }
   ],
   "source": [
    "graph.run(query1).stats()"
   ]
  },
  {
   "cell_type": "code",
   "execution_count": 5,
   "id": "3cc82fc1-3da4-45f6-9d7c-763b75f8b228",
   "metadata": {
    "tags": []
   },
   "outputs": [
    {
     "data": {
      "text/html": [
       "<table><tr><th>default</th><th>product</th><th>customer_count</th></tr><tr><td style=\"text-align:left\">0</td><td style=\"text-align:left\">Personal</td><td style=\"text-align:right\">29</td></tr><tr><td style=\"text-align:left\">0</td><td style=\"text-align:left\">Mortgage</td><td style=\"text-align:right\">23</td></tr><tr><td style=\"text-align:left\">0</td><td style=\"text-align:left\">Home Improvement</td><td style=\"text-align:right\">22</td></tr><tr><td style=\"text-align:left\">0</td><td style=\"text-align:left\">Line of Credit</td><td style=\"text-align:right\">24</td></tr><tr><td style=\"text-align:left\">0</td><td style=\"text-align:left\">Real Estate</td><td style=\"text-align:right\">21</td></tr><tr><td style=\"text-align:left\">0</td><td style=\"text-align:left\">Equipment Finance</td><td style=\"text-align:right\">28</td></tr><tr><td style=\"text-align:left\">0</td><td style=\"text-align:left\">Car Loan</td><td style=\"text-align:right\">18</td></tr><tr><td style=\"text-align:left\">1</td><td style=\"text-align:left\">Line of Credit</td><td style=\"text-align:right\">7</td></tr><tr><td style=\"text-align:left\">1</td><td style=\"text-align:left\">Real Estate</td><td style=\"text-align:right\">7</td></tr><tr><td style=\"text-align:left\">1</td><td style=\"text-align:left\">Equipment Finance</td><td style=\"text-align:right\">6</td></tr><tr><td style=\"text-align:left\">1</td><td style=\"text-align:left\">Mortgage</td><td style=\"text-align:right\">4</td></tr><tr><td style=\"text-align:left\">1</td><td style=\"text-align:left\">Home Improvement</td><td style=\"text-align:right\">5</td></tr><tr><td style=\"text-align:left\">1</td><td style=\"text-align:left\">Car Loan</td><td style=\"text-align:right\">2</td></tr><tr><td style=\"text-align:left\">1</td><td style=\"text-align:left\">Personal</td><td style=\"text-align:right\">4</td></tr></table>"
      ],
      "text/plain": [
       " default | product           | customer_count \n",
       "---------|-------------------|----------------\n",
       " 0       | Personal          |             29 \n",
       " 0       | Mortgage          |             23 \n",
       " 0       | Home Improvement  |             22 \n",
       " 0       | Line of Credit    |             24 \n",
       " 0       | Real Estate       |             21 \n",
       " 0       | Equipment Finance |             28 \n",
       " 0       | Car Loan          |             18 \n",
       " 1       | Line of Credit    |              7 \n",
       " 1       | Real Estate       |              7 \n",
       " 1       | Equipment Finance |              6 \n",
       " 1       | Mortgage          |              4 \n",
       " 1       | Home Improvement  |              5 \n",
       " 1       | Car Loan          |              2 \n",
       " 1       | Personal          |              4 "
      ]
     },
     "execution_count": 5,
     "metadata": {},
     "output_type": "execute_result"
    }
   ],
   "source": [
    "query2 = '''\n",
    "        MATCH (pd:probdefault)<-[:has_default]-(c:customer)-[:has_product]->(pc)\n",
    "        WITH pd.def as default, pc.product_name as product, count(DISTINCT c) as customer_count\n",
    "        RETURN default, product, customer_count\n",
    "'''\n",
    "\n",
    "graph.run(query2).to_table()"
   ]
  },
  {
   "cell_type": "code",
   "execution_count": 6,
   "id": "f4558fd5-3d0c-4927-90b4-649a397ecddb",
   "metadata": {
    "tags": []
   },
   "outputs": [],
   "source": [
    "query3 = '''\n",
    "        MATCH (pd:probdefault)<-[:has_default]-(c:customer)-[r:has_missed_payments]->(mtb:missedpayment)\n",
    "        WITH pd.def as default, mtb.missed_pay_bin as missedbin, c.product_name as product, count(DISTINCT c) as customer_count\n",
    "        RETURN default, missedbin, product, customer_count\n",
    "'''"
   ]
  },
  {
   "cell_type": "code",
   "execution_count": 6,
   "id": "7eb3eb00-da17-44e1-8d68-ae32ca74a58b",
   "metadata": {
    "tags": []
   },
   "outputs": [
    {
     "data": {
      "text/html": [
       "<table><tr><th>c.customer_id</th><th>product</th><th>missed_payment</th><th>credit_score</th><th>dti</th><th>delinquent_days</th></tr><tr><td style=\"text-align:left\">8405543</td><td style=\"text-align:left\">Line of Credit</td><td style=\"text-align:right\">4</td><td style=\"text-align:right\">450</td><td style=\"text-align:right\">0.56</td><td style=\"text-align:left\">0</td></tr><tr><td style=\"text-align:left\">5452627</td><td style=\"text-align:left\">Real Estate</td><td style=\"text-align:right\">9</td><td style=\"text-align:right\">445</td><td style=\"text-align:right\">0.203</td><td style=\"text-align:left\">30</td></tr><tr><td style=\"text-align:left\">8361074</td><td style=\"text-align:left\">Equipment Finance</td><td style=\"text-align:right\">5</td><td style=\"text-align:right\">569</td><td style=\"text-align:right\">0.525</td><td style=\"text-align:left\">30</td></tr><tr><td style=\"text-align:left\">6959955</td><td style=\"text-align:left\">Line of Credit</td><td style=\"text-align:right\">7</td><td style=\"text-align:right\">498</td><td style=\"text-align:right\">0.305</td><td style=\"text-align:left\">30</td></tr><tr><td style=\"text-align:left\">3253960</td><td style=\"text-align:left\">Mortgage</td><td style=\"text-align:right\">4</td><td style=\"text-align:right\">481</td><td style=\"text-align:right\">0.388</td><td style=\"text-align:left\">0</td></tr><tr><td style=\"text-align:left\">6741599</td><td style=\"text-align:left\">Real Estate</td><td style=\"text-align:right\">9</td><td style=\"text-align:right\">445</td><td style=\"text-align:right\">0.05</td><td style=\"text-align:left\">0</td></tr><tr><td style=\"text-align:left\">1031153</td><td style=\"text-align:left\">Home Improvement</td><td style=\"text-align:right\">15</td><td style=\"text-align:right\">355</td><td style=\"text-align:right\">0.328</td><td style=\"text-align:left\">0</td></tr><tr><td style=\"text-align:left\">5319402</td><td style=\"text-align:left\">Equipment Finance</td><td style=\"text-align:right\">10</td><td style=\"text-align:right\">457</td><td style=\"text-align:right\">0.493</td><td style=\"text-align:left\">0</td></tr><tr><td style=\"text-align:left\">4700125</td><td style=\"text-align:left\">Equipment Finance</td><td style=\"text-align:right\">8</td><td style=\"text-align:right\">418</td><td style=\"text-align:right\">0.337</td><td style=\"text-align:left\">30</td></tr><tr><td style=\"text-align:left\">9765785</td><td style=\"text-align:left\">Car Loan</td><td style=\"text-align:right\">9</td><td style=\"text-align:right\">341</td><td style=\"text-align:right\">0.244</td><td style=\"text-align:left\">0</td></tr></table>"
      ],
      "text/plain": [
       " c.customer_id | product           | missed_payment | credit_score |   dti | delinquent_days \n",
       "---------------|-------------------|----------------|--------------|-------|-----------------\n",
       " 8405543       | Line of Credit    |              4 |          450 |  0.56 | 0               \n",
       " 5452627       | Real Estate       |              9 |          445 | 0.203 | 30              \n",
       " 8361074       | Equipment Finance |              5 |          569 | 0.525 | 30              \n",
       " 6959955       | Line of Credit    |              7 |          498 | 0.305 | 30              \n",
       " 3253960       | Mortgage          |              4 |          481 | 0.388 | 0               \n",
       " 6741599       | Real Estate       |              9 |          445 |  0.05 | 0               \n",
       " 1031153       | Home Improvement  |             15 |          355 | 0.328 | 0               \n",
       " 5319402       | Equipment Finance |             10 |          457 | 0.493 | 0               \n",
       " 4700125       | Equipment Finance |              8 |          418 | 0.337 | 30              \n",
       " 9765785       | Car Loan          |              9 |          341 | 0.244 | 0               "
      ]
     },
     "execution_count": 6,
     "metadata": {},
     "output_type": "execute_result"
    }
   ],
   "source": [
    "query4 = '''\n",
    "        MATCH (pd:probdefault {def : '1'})<-[:has_default]-(c:customer)-[r1:has_missed_payments]->(mtb:missedpayment)\n",
    "        MATCH (c:customer)-[r2:has_credit_score]->(csb:creditscore)\n",
    "        MATCH (c:customer)-[r3:has_debt_to_income_ratio]->(dti:debttoincome)\n",
    "        MATCH (c:customer)-[r4:has_delinq_days]->(dd:delinq)\n",
    "        RETURN c.customer_id, c.product_name as product, r1.missed_payments as missed_payment,\n",
    "        r2.credit_score as credit_score, round(r3.debt_to_income_ratio,3) as dti, dd.delinq as delinquent_days limit 10\n",
    "'''\n",
    "graph.run(query4).to_table()"
   ]
  },
  {
   "cell_type": "code",
   "execution_count": null,
   "id": "a12deeac-452a-4d49-975c-a252ee176481",
   "metadata": {},
   "outputs": [],
   "source": []
  },
  {
   "cell_type": "code",
   "execution_count": 9,
   "id": "fa3f5c9e-b89e-4c64-aca7-40c19bf9a005",
   "metadata": {
    "tags": []
   },
   "outputs": [
    {
     "data": {
      "text/plain": [
       "{'nodes_deleted': 45, 'relationships_deleted': 120}"
      ]
     },
     "execution_count": 9,
     "metadata": {},
     "output_type": "execute_result"
    }
   ],
   "source": [
    "graph.run(\"MATCH (n) DETACH DELETE n\").stats()"
   ]
  },
  {
   "cell_type": "code",
   "execution_count": null,
   "id": "bb92a993-102d-42fd-a153-9bb7fb258851",
   "metadata": {},
   "outputs": [],
   "source": []
  }
 ],
 "metadata": {
  "kernelspec": {
   "display_name": "Python 3 (ipykernel)",
   "language": "python",
   "name": "python3"
  },
  "language_info": {
   "codemirror_mode": {
    "name": "ipython",
    "version": 3
   },
   "file_extension": ".py",
   "mimetype": "text/x-python",
   "name": "python",
   "nbconvert_exporter": "python",
   "pygments_lexer": "ipython3",
   "version": "3.10.9"
  }
 },
 "nbformat": 4,
 "nbformat_minor": 5
}
