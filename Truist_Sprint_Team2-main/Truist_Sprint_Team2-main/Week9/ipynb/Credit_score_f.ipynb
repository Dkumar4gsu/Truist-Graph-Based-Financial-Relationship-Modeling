{
  "cells": [
    {
      "cell_type": "code",
      "execution_count": 7,
      "id": "4bfc8481",
      "metadata": {
        "id": "4bfc8481"
      },
      "outputs": [],
      "source": [
        "import pandas as pd\n",
        "import random\n",
        "import numpy as np"
      ]
    },
    {
      "cell_type": "code",
      "execution_count": 92,
      "id": "471e15b0",
      "metadata": {
        "colab": {
          "base_uri": "https://localhost:8080/"
        },
        "id": "471e15b0",
        "outputId": "c42e3f46-c6c1-4ab1-95ae-6d002a15e4f2"
      },
      "outputs": [
        {
          "name": "stdout",
          "output_type": "stream",
          "text": [
            "Enter the number of rows: 200\n"
          ]
        }
      ],
      "source": [
        "# Define a function to assign a PH status based on the number of late payments\n",
        "\n",
        "def get_ph_status(late_payments):\n",
        "    if late_payments == 0:\n",
        "        return \"Great\"\n",
        "    elif late_payments in [1, 2, 3]:\n",
        "        return \"Good\"\n",
        "    elif late_payments in [4,5,6,7,8]:\n",
        "        return \"Fair\"\n",
        "    else:\n",
        "        return \"Poor\"\n",
        "\n",
        "# Define a function to assign a CA status based on the credit age\n",
        "def get_ca_status(credit_age):\n",
        "    if credit_age >= 0 and credit_age <= 4:\n",
        "        return \"POOR\"\n",
        "    elif credit_age >= 5 and credit_age <= 7:\n",
        "        return \"FAIR\"\n",
        "    elif credit_age >= 8 and credit_age <= 24:\n",
        "        return \"GOOD\"\n",
        "    else:\n",
        "        return \"GREAT\"\n",
        "\n",
        "# Define a function to assign a HC status based on the number of hard checks\n",
        "def get_hc_status(hard_checks):\n",
        "    if hard_checks == 0:\n",
        "        return \"GREAT\"\n",
        "    elif hard_checks in [1, 2]:\n",
        "        return \"GOOD\"\n",
        "    elif hard_checks in [3, 4, 5]:\n",
        "        return \"FAIR\"\n",
        "    else:\n",
        "        return \"POOR\"\n",
        "\n",
        "# Define a function to calculate the credit usage, used credit, and available credit\n",
        "def get_credit_usage(total_credit):\n",
        "    credit_usage = random.randint(0, 85)\n",
        "    used_credit = int(total_credit * credit_usage / 100)\n",
        "    available_credit = total_credit - used_credit\n",
        "    return credit_usage, used_credit, available_credit\n",
        "\n",
        "# Define a function to assign a CU status based on the credit usage\n",
        "def get_cu_status(credit_usage):\n",
        "    if credit_usage >= 0 and credit_usage <= 9:\n",
        "        return \"GREAT\"\n",
        "    elif credit_usage >= 10 and credit_usage <= 30:\n",
        "        return \"GOOD\"\n",
        "    elif credit_usage >= 31 and credit_usage <= 60:\n",
        "        return \"FAIR\"\n",
        "    else:\n",
        "        return \"POOR\"\n",
        "\n",
        "def dti_func():\n",
        "  prob_dti = random.random()\n",
        "\n",
        "  if prob_dti < 0.1:\n",
        "    dti = np.random.uniform(0, 0.2)\n",
        "  elif prob_dti < 0.4:\n",
        "    dti = np.random.uniform(0.2, 0.3)\n",
        "  elif prob_dti < 0.85:\n",
        "    dti = np.random.uniform(0.3, 0.4)\n",
        "  elif prob_dti < 0.95:\n",
        "    dti = np.random.uniform(0.4, 0.5)\n",
        "  else:\n",
        "    dti = np.random.uniform(0.5, 0.6)\n",
        "\n",
        "  return dti\n",
        "\n",
        "# Define Late payments\n",
        "def latepay():\n",
        "  prob = random.random()\n",
        "\n",
        "  if prob < 0.6:\n",
        "      late_payments = 0\n",
        "  elif prob < 0.8:\n",
        "      late_payments = random.randint(1, 5)\n",
        "  elif prob < 0.9:\n",
        "      late_payments = random.randint(6, 10)\n",
        "  else:\n",
        "      late_payments = random.randint(10, 20)\n",
        "\n",
        "  return late_payments\n",
        "\n",
        "# Define Deliquent Days\n",
        "def deliquent_days(late_payments):\n",
        "  \n",
        "  if late_payments == 0:\n",
        "    Delinquent_Days = 0\n",
        "\n",
        "  elif late_payments <= 5:\n",
        "    prob_dd = random.random()\n",
        "    if prob_dd < 0.7:\n",
        "      Delinquent_Days = 0\n",
        "    elif prob_dd < 0.9:\n",
        "        Delinquent_Days = 30\n",
        "    else:\n",
        "        Delinquent_Days = 60\n",
        "\n",
        "  elif late_payments <= 10:\n",
        "    prob_dd = random.random()\n",
        "    if prob_dd < 0.4:\n",
        "        Delinquent_Days = 0\n",
        "    elif prob_dd < 0.7:\n",
        "        Delinquent_Days = 30\n",
        "    elif prob_dd < 0.9:\n",
        "        Delinquent_Days = 60\n",
        "    else:\n",
        "        Delinquent_Days = 90\n",
        "\n",
        "  else:\n",
        "    prob_dd = random.random()\n",
        "    if prob_dd < 0.1:\n",
        "      Delinquent_Days = 0\n",
        "    elif prob_dd < 0.3:\n",
        "      Delinquent_Days = 30\n",
        "    elif prob_dd < 0.7:\n",
        "      Delinquent_Days = 60\n",
        "    else:\n",
        "      Delinquent_Days = 90\n",
        "\n",
        "  return Delinquent_Days\n",
        "\n",
        "# Define a function to calculate the credit score\n",
        "def calculate_credit_score(ph_status,ca_status, cu_status, hc_status, total_credit, available_credit):\n",
        "    # Calculate the weightages for each attribute\n",
        "    ph_weightage = 40\n",
        "    ca_weightage = 21\n",
        "    cu_weightage = 20\n",
        "    hc_weightage = 5\n",
        "    tc_weightage = 11\n",
        "    ac_weightage = 3\n",
        "\n",
        "    # Calculate the scores for each attribute\n",
        "    ph_score = {\"Great\": 4, \"Good\": 3, \"Fair\": 2, \"Poor\": 1}[ph_status]\n",
        "    cu_score = {\"GREAT\": 4, \"GOOD\": 3, \"FAIR\": 2, \"POOR\": 1}[cu_status]\n",
        "    hc_score = {\"GREAT\": 4, \"GOOD\": 3, \"FAIR\": 2, \"POOR\": 1}[hc_status]\n",
        "    ca_score = {\"GREAT\": 4, \"GOOD\": 3, \"FAIR\": 2, \"POOR\": 1}[ca_status]\n",
        "    tc_score = total_credit / 100000 * 4\n",
        "    ac_score = available_credit / total_credit * 4\n",
        "\n",
        "    # Calculate the credit score based on the weights and scores\n",
        "    credit_score = (ph_score * ph_weightage / 100) + (cu_score * cu_weightage / 100) + \\\n",
        "                   (hc_score * hc_weightage / 100) + (tc_score * tc_weightage / 100) + \\\n",
        "                   (ac_score * ac_weightage / 100) + (ca_score * ca_weightage / 100)\n",
        "\n",
        "    # Cap the credit score to a range of 300 to 850\n",
        "    #credit_score = min(max(int(credit_score*100), 300), 850)\n",
        "    #scaled_floats = (((credit_score - 0.94476921021933) / (3.74650519738374 - 0.94476921021933)) * (850 - 300)) + 300\n",
        "\n",
        "    return credit_score\n",
        "\n",
        "    # Prompt the user for the number of rows to generate\n",
        "num_rows = int(input(\"Enter the number of rows: \"))\n",
        "\n",
        "    # Initialize an empty list to store the rows\n",
        "rows = []\n",
        "\n",
        "    # Loop through the number of rows to generate credit scores for each row\n",
        "for i in range(num_rows):\n",
        "    # Generate random values for the columns\n",
        "    customer_ID = str(random.randint(1000000, 9999999))\n",
        "    LOB_Code = Cust_Type = random.choice(['C', 'R'])\n",
        "\n",
        "    if LOB_Code == 'C':\n",
        "            Product_Name = random.choice([\"Equipment Finance\", \"Line of Credit\", \"Real Estate\"])\n",
        "    elif LOB_Code == 'R':\n",
        "            Product_Name = random.choice([\"Mortgage\", \"Car Loan\", \"Home Improvement\", \"Personal\"])\n",
        "\n",
        "    total_credit = random.randint(1500, 80000)\n",
        "    credit_usage, used_credit, available_credit = get_credit_usage(total_credit)\n",
        "    cu_status = get_cu_status(credit_usage)\n",
        "\n",
        "    # dti_mean = np.random.uniform(0.2, 0.5)\n",
        "    # dti_std = np.random.uniform(0.05, 0.25)\n",
        "    # dti_ratios = np.random.uniform(dti_mean, dti_std)\n",
        "\n",
        "    dti_ratios = dti_func()    \n",
        "    \n",
        "    #late_payments = random.randint(0, 20)\n",
        "    late_payments = latepay()\n",
        "    ph_status = get_ph_status(late_payments)\n",
        "    credit_age = random.randint(0, 60)\n",
        "    ca_status = get_ca_status(credit_age)\n",
        "    hard_checks = random.randint(0, 20)\n",
        "    hc_status = get_hc_status(hard_checks)\n",
        "    credit_score = calculate_credit_score(ph_status,ca_status, cu_status, hc_status, total_credit, available_credit)\n",
        "    Deliquent_days = deliquent_days(late_payments)\n",
        "\n",
        "    # Append the row to the list\n",
        "    rows.append([customer_ID, LOB_Code, Product_Name, late_payments, ph_status, credit_age, ca_status, total_credit, hard_checks, hc_status, credit_score,credit_usage,used_credit,cu_status,available_credit,Deliquent_days, dti_ratios])\n",
        "\n",
        "# Create a Pandas DataFrame from the rows\n",
        "df = pd.DataFrame(rows, columns=[\"Customer_ID\", \"LOB_Code\", \"Product_Name\", \"Missed_payments\", \"PH_Status\", \"Credit_Age\", \"CA_Status\", \"Total_Credit\", \"Hard_checks\", \"HC_Status\", \"Credit_Score_temp\",\"Credit_Usage\",\"Used_Credit\",\"Cu_Status\",\"Available_Credit\",\"Deliquent_days\", 'DTI'])\n",
        "df['Credit_Score']=[int((value - min(df['Credit_Score_temp'])) / (max(df['Credit_Score_temp']) - min(df['Credit_Score_temp'])) * (850 - 300) + 300) for value in df['Credit_Score_temp']]\n",
        "df.drop(\"Credit_Score_temp\", axis=1, inplace=True)\n"
      ]
    },
    {
      "cell_type": "code",
      "source": [
        "# Prob of default\n",
        "\n",
        "pod = []\n",
        "\n",
        "df_temp = df[['Credit_Score', 'Missed_payments', 'DTI', 'Deliquent_days']]\n",
        "\n",
        "for i in range(0,len(df_temp)): \n",
        "  \n",
        "  if df_temp.loc[i,'Credit_Score'] >= 800:\n",
        "    pod.append(0)\n",
        "\n",
        "  elif df_temp.loc[i,'Credit_Score'] >= 740:\n",
        "    if df_temp.loc[i,'DTI'] <= 0.4:\n",
        "      pod.append(0)\n",
        "    else:\n",
        "      if (df_temp.loc[i,'Deliquent_days'] <= 60):\n",
        "        pod.append(0)\n",
        "      else: \n",
        "        pod.append(random.randint(0,1))\n",
        "\n",
        "\n",
        "  elif df_temp.loc[i,'Credit_Score'] >= 670:\n",
        "    if df_temp.loc[i,'DTI'] <= 0.35:\n",
        "      pod.append(0)\n",
        "    elif (df_temp.loc[i,'DTI'] <= 0.4): \n",
        "      if (df_temp.loc[i,'Deliquent_days'] <= 60):\n",
        "        pod.append(0)\n",
        "      else: \n",
        "        pod.append(random.randint(0,1))\n",
        "    else:\n",
        "      if (df_temp.loc[i,'Deliquent_days'] <= 30):\n",
        "        pod.append(0)\n",
        "      elif df_temp.loc[i,'Deliquent_days'] <= 60:\n",
        "        pod.append(random.randint(0,1))\n",
        "      else: \n",
        "        pod.append(1)\n",
        "\n",
        "  elif df_temp.loc[i,'Credit_Score'] >= 580:\n",
        "    if df_temp.loc[i,'DTI'] <= 0.3:\n",
        "      if (df_temp.loc[i,'Deliquent_days'] <= 60):\n",
        "        pod.append(0)\n",
        "      else: \n",
        "        pod.append(random.randint(0,1))\n",
        "    elif (df_temp.loc[i,'DTI'] <= 0.4):\n",
        "      if (df_temp.loc[i,'Deliquent_days'] <= 30):\n",
        "        pod.append(0) \n",
        "      elif (df_temp.loc[i,'Deliquent_days'] <= 60):\n",
        "        pod.append(random.randint(0,1)) \n",
        "      else:  \n",
        "        pod.append(random.randint(0,1)) \n",
        "    else:\n",
        "      if (df_temp.loc[i,'Deliquent_days'] < 30):\n",
        "        pod.append(0)\n",
        "      elif (df_temp.loc[i,'Deliquent_days'] <= 60):\n",
        "        pod.append(random.randint(0,1))\n",
        "      else: \n",
        "        pod.append(1)\n",
        "\n",
        "  elif df_temp.loc[i,'Credit_Score'] >= 500: \n",
        "    if df_temp.loc[i,'DTI'] <= 0.3:\n",
        "      if (df_temp.loc[i,'Deliquent_days'] <= 60):\n",
        "        pod.append(0) \n",
        "      else: \n",
        "        pod.append(random.randint(0,1))\n",
        "    elif (df_temp.loc[i,'DTI'] <= 0.4): \n",
        "      if (df_temp.loc[i,'Deliquent_days'] < 30):\n",
        "        pod.append(0)\n",
        "      elif (df_temp.loc[i,'Deliquent_days'] <= 60):\n",
        "        pod.append(random.randint(0,1))\n",
        "      else: \n",
        "        pod.append(1)\n",
        "    else:\n",
        "      if (df_temp.loc[i,'Deliquent_days'] < 30):\n",
        "        pod.append(0)\n",
        "      elif (df_temp.loc[i,'Deliquent_days'] <= 60):\n",
        "        pod.append(1)\n",
        "      else: \n",
        "        pod.append(1)\n",
        "\n",
        "  else:\n",
        "     pod.append(1)\n",
        "\n",
        "df['POD'] = pod   "
      ],
      "metadata": {
        "id": "xIwXsB_G_OMD"
      },
      "id": "xIwXsB_G_OMD",
      "execution_count": 93,
      "outputs": []
    },
    {
      "cell_type": "code",
      "source": [
        "df[df['POD'] == 1].shape"
      ],
      "metadata": {
        "id": "msETkjdTkObs",
        "colab": {
          "base_uri": "https://localhost:8080/"
        },
        "outputId": "7649af8c-4ab9-4afa-c1ad-c9836b28347d"
      },
      "id": "msETkjdTkObs",
      "execution_count": 94,
      "outputs": [
        {
          "output_type": "execute_result",
          "data": {
            "text/plain": [
              "(35, 18)"
            ]
          },
          "metadata": {},
          "execution_count": 94
        }
      ]
    },
    {
      "cell_type": "code",
      "source": [
        "df.Deliquent_days.value_counts()"
      ],
      "metadata": {
        "colab": {
          "base_uri": "https://localhost:8080/"
        },
        "id": "TV7PW8C6Oec7",
        "outputId": "ff14fb61-0347-45aa-c6df-736d4d430f2b"
      },
      "id": "TV7PW8C6Oec7",
      "execution_count": 95,
      "outputs": [
        {
          "output_type": "execute_result",
          "data": {
            "text/plain": [
              "0     165\n",
              "30     19\n",
              "60      9\n",
              "90      7\n",
              "Name: Deliquent_days, dtype: int64"
            ]
          },
          "metadata": {},
          "execution_count": 95
        }
      ]
    },
    {
      "cell_type": "code",
      "source": [
        "import matplotlib.pyplot as plt\n",
        "\n",
        "df['Credit_Score'].plot.hist()"
      ],
      "metadata": {
        "colab": {
          "base_uri": "https://localhost:8080/",
          "height": 283
        },
        "id": "X6Chu5CYQc9K",
        "outputId": "46c16e7d-877d-4d8c-9292-0cafd95e75a1"
      },
      "id": "X6Chu5CYQc9K",
      "execution_count": 96,
      "outputs": [
        {
          "output_type": "execute_result",
          "data": {
            "text/plain": [
              "<AxesSubplot:ylabel='Frequency'>"
            ]
          },
          "metadata": {},
          "execution_count": 96
        },
        {
          "output_type": "display_data",
          "data": {
            "text/plain": [
              "<Figure size 432x288 with 1 Axes>"
            ],
            "image/png": "[encoded data removed]"
          },
          "metadata": {
            "needs_background": "light"
          }
        }
      ]
    },
    {
      "cell_type": "code",
      "source": [
        "df[df['Credit_Score'] < 500].shape"
      ],
      "metadata": {
        "colab": {
          "base_uri": "https://localhost:8080/"
        },
        "id": "M08DHiJ4k8Lm",
        "outputId": "704f015d-4d6b-4499-ccdb-83f9bf2995d6"
      },
      "id": "M08DHiJ4k8Lm",
      "execution_count": 91,
      "outputs": [
        {
          "output_type": "execute_result",
          "data": {
            "text/plain": [
              "(34, 18)"
            ]
          },
          "metadata": {},
          "execution_count": 91
        }
      ]
    },
    {
      "cell_type": "code",
      "source": [
        "df.to_csv(\"credit_scores3.csv\", index=False)"
      ],
      "metadata": {
        "id": "xKMg5YgRSlhX"
      },
      "id": "xKMg5YgRSlhX",
      "execution_count": 97,
      "outputs": []
    },
    {
      "cell_type": "code",
      "source": [],
      "metadata": {
        "id": "58dSBwqWtcML"
      },
      "id": "58dSBwqWtcML",
      "execution_count": null,
      "outputs": []
    }
  ],
  "metadata": {
    "kernelspec": {
      "display_name": "Python 3 (ipykernel)",
      "language": "python",
      "name": "python3"
    },
    "language_info": {
      "codemirror_mode": {
        "name": "ipython",
        "version": 3
      },
      "file_extension": ".py",
      "mimetype": "text/x-python",
      "name": "python",
      "nbconvert_exporter": "python",
      "pygments_lexer": "ipython3",
      "version": "3.9.13"
    },
    "colab": {
      "provenance": []
    }
  },
  "nbformat": 4,
  "nbformat_minor": 5
}